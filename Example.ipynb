{
 "metadata": {
  "language_info": {
   "codemirror_mode": {
    "name": "ipython",
    "version": 3
   },
   "file_extension": ".py",
   "mimetype": "text/x-python",
   "name": "python",
   "nbconvert_exporter": "python",
   "pygments_lexer": "ipython3",
   "version": "3.7.4-final"
  },
  "orig_nbformat": 2,
  "kernelspec": {
   "name": "python3",
   "display_name": "Python 3",
   "language": "python"
  }
 },
 "nbformat": 4,
 "nbformat_minor": 2,
 "cells": [
  {
   "cell_type": "code",
   "execution_count": 1,
   "metadata": {},
   "outputs": [],
   "source": [
    "from main import underkgParse\n",
    "import pandas as pd\n",
    "import numpy as np"
   ]
  },
  {
   "cell_type": "code",
   "execution_count": 2,
   "metadata": {
    "tags": []
   },
   "outputs": [],
   "source": [
    "News = []\n",
    "Freeboard = []\n",
    "QnA = []\n",
    "\n",
    "for i in range(1, 5):\n",
    "    News.append(np.asarray(underkgParse(num=i).News()))\n",
    "    Freeboard.append(np.asarray(underkgParse(num=i).Freeboard()))\n",
    "    QnA.append(np.asarray(underkgParse(num=i).QnA()))\n",
    "\n",
    "News = np.asarray(News)\n",
    "Freeboard = np.asarray(Freeboard)\n",
    "QnA = np.asarray(QnA)"
   ]
  },
  {
   "cell_type": "code",
   "execution_count": 3,
   "metadata": {
    "tags": []
   },
   "outputs": [],
   "source": [
    "def Reshape(df, arg):\n",
    "    tmp = pd.DataFrame()\n",
    "    for i in df:\n",
    "        tmp = pd.concat([tmp, pd.DataFrame(i.reshape(int(arg), -1)).T])\n",
    "    return tmp\n",
    "\n",
    "def del_tmp(df, column):\n",
    "    tmp = []\n",
    "    for i in df[column]:\n",
    "        tmp.append(str(i).replace('\\t', '').replace('\\n', ''))\n",
    "    df[column] = pd.DataFrame(tmp)\n",
    "    del tmp\n",
    "    return df"
   ]
  },
  {
   "cell_type": "code",
   "execution_count": 4,
   "metadata": {},
   "outputs": [
    {
     "output_type": "execute_result",
     "data": {
      "text/plain": [
       "                                                   제목  \\\n",
       "0                   현대차그룹, 세계 최고 로봇 기업 ‘보스턴 다이내믹스’ 인수   \n",
       "1               LG전자-LG트윈스, 난치병 아동 위해 ‘사랑의 수호천사기금’ 전달   \n",
       "2                        KT “기가지니에 주문하면 AI로봇이 서빙해드려요”   \n",
       "3               테슬라 'T맵' 품고 달린다…SKT·테슬라 'T맵 오토' 탑재 계약   \n",
       "4                              ‘LG 벨벳’ LTE 자급제 모델 나온다   \n",
       "5                  SKT, 앱/서비스 별 네트워크 슬라이스 기술 세계 최초 개발   \n",
       "6                            KT, 기가지니에서 즐기는 ‘게임박스’ 출시   \n",
       "7                       삼성전자, 독일서 플래그십 갤럭시 렌탈 프로그램 출시   \n",
       "8                           Relame, Watch S Pro 티저 공개   \n",
       "9                               LG전자, V60 씽큐 국내 출시 예정   \n",
       "10                         U+알뜰폰, 자급제 아이폰 만나 ‘꿀조합’ 대박   \n",
       "11  ‘일상을 스테이지로 변화시키는 마법’ JBL, 고성능 헤드·이어폰 JBL CLUB ...   \n",
       "12                        SKT, ‘누구 셀럽(NUGU celeb)’ 출시   \n",
       "13                                 삼성 갤럭시 버즈 프로 추가 유출   \n",
       "14                                Oppo Reno 5 Plus 유출   \n",
       "0                                  샤오미, 홍미 9 파워 티저 공개   \n",
       "1                     대원씨티에스, 외장 SSD ‘마이크론 크루셜 X6’ 출시   \n",
       "2   Seagate, 차세대 게임 성능 유지하면서 용량 확장이 가능한 Xbox Serie...   \n",
       "3         ASUS, 게임 인플루언서 24인과 함께하는 ‘블리자드 철인 3종 경기’ 후원   \n",
       "4                             레노버, 르멍 K12 및 K12 프로 발표   \n",
       "5                                    샤오미, 미 워치 라이트 발표   \n",
       "6                     KT-현대차그룹, 커넥티드 카 기반 지니뮤직 서비스 출시   \n",
       "7                     LG전자, 가전·휴대폰 서비스 콜센터 품질 우수기업 선정   \n",
       "8                     삼성전자서비스, ‘2020 KS-CQI’ 우수 기업 선정   \n",
       "9                              구글, Pixel 3 리퍼비시 판매 개시   \n",
       "10                [루머] 삼성 갤럭시 S21, 더 크고 빠른 지문인식 센서 탑재   \n",
       "11                                    애플, 요가 매트 판매 개시   \n",
       "12                            삼성전자, 마이크로 LED TV 전격 공개   \n",
       "13                         구글 검색어로 되돌아보는 2020년 한국과 세계   \n",
       "14           인텔 공인대리점 3사, 인텔 통합 A/S 센터 확장이전 기념 이벤트 진행   \n",
       "0                           삼성 스마트싱스, 구글 네스트 제품 지원 추가   \n",
       "1                                    삼성 갤럭시 A52 렌더 등장   \n",
       "2                         Gionee, 보급형 스마트폰 K30 Pro 발표   \n",
       "3           퀄컴, LG U+, 및 LG전자, 금오공대에 국내 최초 mmWave 상용화   \n",
       "4            Seagate, 데이터 이동성과 신뢰성 강화 위해 RISC-V 코어 설계   \n",
       "5             삼성전자X경북창조경제혁신센터, G-Star Dreamers 16기 모집   \n",
       "6                                새 글꼴 채용 Gboard 베타 출시   \n",
       "7                        모토로라 Moto G Stylus (2021) 유출   \n",
       "8                                  노키아, 노트북 발표회 티저 공개   \n",
       "9                케이스티파이, 이소룡 탄생 80주년 기념 컬래버레이션 컬렉션 출시   \n",
       "10                         LG전자, 투명 올레드 사이니지로 자동문 만든다   \n",
       "11               “따뜻한 연말 보내세요” 제로페이 QR 코드로 자선냄비 기부 가능   \n",
       "12                          애플, 노이즈 캔슬링 헤드폰 에어팟 맥스 발표   \n",
       "13               모토로라, 대용량 배터리 탑재 Moto G9 Power 인도 발표   \n",
       "14                         갤럭시 S21 시리즈, 충전기 및 이어폰 미포함   \n",
       "0                                  삼성 갤럭시 버즈 프로 추가 유출   \n",
       "1                       노키아 Power Earbuds Lite, 중국 출시   \n",
       "2                               구글 어시스턴트, 애플 뮤직 지원 개시   \n",
       "3                     ‘LG 클로이 살균봇’, 언제 어디서나 공간에 맞춰 방역   \n",
       "4         CES 2021 등록 시작 “최초의 100% 디지털 CES, 지금 등록하세요”   \n",
       "5                       LG전자, ‘시그니처 키친 스위트’ 오븐 라인업 확대   \n",
       "6                      삼성 갤럭시 S21 울트라 및 S21 플러스 실기 유출   \n",
       "7                           LG전자, 프리미엄 ‘LG 휘센 실링팬’ 출시   \n",
       "8                          SKT, 연말연시 ‘V 컬러링’ 기부행사 펼친다   \n",
       "9                               LG전자, 보급형 스마트폰 W31 발표   \n",
       "10                                삼성전자, 6억 화소 센서 개발 중   \n",
       "11                                         노키아 5.4 유출   \n",
       "12                        LG 올레드 갤러리 TV, 전시 공간도 예술 작품   \n",
       "13                    SKT, ‘누구 인포콜(NUGU infocall)’ 출시   \n",
       "14      레노버 공식 유통사 반석전자, 레노버 ‘아이디어패드 플렉스 5i 14ITL’ 출시   \n",
       "\n",
       "                                              img url  \n",
       "0   http://underkg.co.kr/files/thumbnails/579/779/...  \n",
       "1   http://underkg.co.kr/files/thumbnails/577/779/...  \n",
       "2   http://underkg.co.kr/files/thumbnails/571/779/...  \n",
       "3   http://underkg.co.kr/files/thumbnails/108/779/...  \n",
       "4   http://underkg.co.kr/files/thumbnails/071/779/...  \n",
       "5   http://underkg.co.kr/files/thumbnails/065/779/...  \n",
       "6   http://underkg.co.kr/files/thumbnails/063/779/...  \n",
       "7   http://underkg.co.kr/files/thumbnails/051/779/...  \n",
       "8   http://underkg.co.kr/files/thumbnails/045/779/...  \n",
       "9   http://underkg.co.kr/files/thumbnails/043/779/...  \n",
       "10  http://underkg.co.kr/files/thumbnails/028/779/...  \n",
       "11  http://underkg.co.kr/files/thumbnails/026/779/...  \n",
       "12  http://underkg.co.kr/files/thumbnails/023/779/...  \n",
       "13  http://underkg.co.kr/files/thumbnails/017/779/...  \n",
       "14  http://underkg.co.kr/files/thumbnails/015/779/...  \n",
       "0   http://underkg.co.kr/files/thumbnails/012/779/...  \n",
       "1   http://underkg.co.kr/files/thumbnails/006/779/...  \n",
       "2   http://underkg.co.kr/files/thumbnails/004/779/...  \n",
       "3   http://underkg.co.kr/files/thumbnails/002/779/...  \n",
       "4   http://underkg.co.kr/files/thumbnails/554/778/...  \n",
       "5   http://underkg.co.kr/files/thumbnails/549/778/...  \n",
       "6   http://underkg.co.kr/files/thumbnails/409/778/...  \n",
       "7   http://underkg.co.kr/files/thumbnails/407/778/...  \n",
       "8   http://underkg.co.kr/files/thumbnails/402/778/...  \n",
       "9   http://underkg.co.kr/files/thumbnails/400/778/...  \n",
       "10  http://underkg.co.kr/files/thumbnails/394/778/...  \n",
       "11  http://underkg.co.kr/files/thumbnails/392/778/...  \n",
       "12  http://underkg.co.kr/files/thumbnails/385/778/...  \n",
       "13  http://underkg.co.kr/files/thumbnails/379/778/...  \n",
       "14  http://underkg.co.kr/files/thumbnails/377/778/...  \n",
       "0   http://underkg.co.kr/files/thumbnails/188/778/...  \n",
       "1   http://underkg.co.kr/files/thumbnails/927/777/...  \n",
       "2   http://underkg.co.kr/files/thumbnails/923/777/...  \n",
       "3   http://underkg.co.kr/files/thumbnails/901/777/...  \n",
       "4   http://underkg.co.kr/files/thumbnails/899/777/...  \n",
       "5   http://underkg.co.kr/files/thumbnails/897/777/...  \n",
       "6   http://underkg.co.kr/files/thumbnails/893/777/...  \n",
       "7   http://underkg.co.kr/files/thumbnails/881/777/...  \n",
       "8   http://underkg.co.kr/files/thumbnails/876/777/...  \n",
       "9   http://underkg.co.kr/files/thumbnails/871/777/...  \n",
       "10  http://underkg.co.kr/files/thumbnails/867/777/...  \n",
       "11  http://underkg.co.kr/files/thumbnails/864/777/...  \n",
       "12  http://underkg.co.kr/files/thumbnails/095/777/...  \n",
       "13  http://underkg.co.kr/files/thumbnails/000/777/...  \n",
       "14  http://underkg.co.kr/files/thumbnails/862/776/...  \n",
       "0   http://underkg.co.kr/files/thumbnails/796/776/...  \n",
       "1   http://underkg.co.kr/files/thumbnails/792/776/...  \n",
       "2   http://underkg.co.kr/files/thumbnails/790/776/...  \n",
       "3   http://underkg.co.kr/files/thumbnails/787/776/...  \n",
       "4   http://underkg.co.kr/files/thumbnails/785/776/...  \n",
       "5   http://underkg.co.kr/files/thumbnails/782/776/...  \n",
       "6   http://underkg.co.kr/files/thumbnails/575/776/...  \n",
       "7   http://underkg.co.kr/files/thumbnails/420/776/...  \n",
       "8   http://underkg.co.kr/files/thumbnails/418/776/...  \n",
       "9   http://underkg.co.kr/files/thumbnails/414/776/...  \n",
       "10  http://underkg.co.kr/files/thumbnails/412/776/...  \n",
       "11  http://underkg.co.kr/files/thumbnails/409/776/...  \n",
       "12  http://underkg.co.kr/files/thumbnails/403/776/...  \n",
       "13  http://underkg.co.kr/files/thumbnails/401/776/...  \n",
       "14  http://underkg.co.kr/files/thumbnails/397/776/...  "
      ],
      "text/html": "<div>\n<style scoped>\n    .dataframe tbody tr th:only-of-type {\n        vertical-align: middle;\n    }\n\n    .dataframe tbody tr th {\n        vertical-align: top;\n    }\n\n    .dataframe thead th {\n        text-align: right;\n    }\n</style>\n<table border=\"1\" class=\"dataframe\">\n  <thead>\n    <tr style=\"text-align: right;\">\n      <th></th>\n      <th>제목</th>\n      <th>img url</th>\n    </tr>\n  </thead>\n  <tbody>\n    <tr>\n      <th>0</th>\n      <td>현대차그룹, 세계 최고 로봇 기업 ‘보스턴 다이내믹스’ 인수</td>\n      <td>http://underkg.co.kr/files/thumbnails/579/779/...</td>\n    </tr>\n    <tr>\n      <th>1</th>\n      <td>LG전자-LG트윈스, 난치병 아동 위해 ‘사랑의 수호천사기금’ 전달</td>\n      <td>http://underkg.co.kr/files/thumbnails/577/779/...</td>\n    </tr>\n    <tr>\n      <th>2</th>\n      <td>KT “기가지니에 주문하면 AI로봇이 서빙해드려요”</td>\n      <td>http://underkg.co.kr/files/thumbnails/571/779/...</td>\n    </tr>\n    <tr>\n      <th>3</th>\n      <td>테슬라 'T맵' 품고 달린다…SKT·테슬라 'T맵 오토' 탑재 계약</td>\n      <td>http://underkg.co.kr/files/thumbnails/108/779/...</td>\n    </tr>\n    <tr>\n      <th>4</th>\n      <td>‘LG 벨벳’ LTE 자급제 모델 나온다</td>\n      <td>http://underkg.co.kr/files/thumbnails/071/779/...</td>\n    </tr>\n    <tr>\n      <th>5</th>\n      <td>SKT, 앱/서비스 별 네트워크 슬라이스 기술 세계 최초 개발</td>\n      <td>http://underkg.co.kr/files/thumbnails/065/779/...</td>\n    </tr>\n    <tr>\n      <th>6</th>\n      <td>KT, 기가지니에서 즐기는 ‘게임박스’ 출시</td>\n      <td>http://underkg.co.kr/files/thumbnails/063/779/...</td>\n    </tr>\n    <tr>\n      <th>7</th>\n      <td>삼성전자, 독일서 플래그십 갤럭시 렌탈 프로그램 출시</td>\n      <td>http://underkg.co.kr/files/thumbnails/051/779/...</td>\n    </tr>\n    <tr>\n      <th>8</th>\n      <td>Relame, Watch S Pro 티저 공개</td>\n      <td>http://underkg.co.kr/files/thumbnails/045/779/...</td>\n    </tr>\n    <tr>\n      <th>9</th>\n      <td>LG전자, V60 씽큐 국내 출시 예정</td>\n      <td>http://underkg.co.kr/files/thumbnails/043/779/...</td>\n    </tr>\n    <tr>\n      <th>10</th>\n      <td>U+알뜰폰, 자급제 아이폰 만나 ‘꿀조합’ 대박</td>\n      <td>http://underkg.co.kr/files/thumbnails/028/779/...</td>\n    </tr>\n    <tr>\n      <th>11</th>\n      <td>‘일상을 스테이지로 변화시키는 마법’ JBL, 고성능 헤드·이어폰 JBL CLUB ...</td>\n      <td>http://underkg.co.kr/files/thumbnails/026/779/...</td>\n    </tr>\n    <tr>\n      <th>12</th>\n      <td>SKT, ‘누구 셀럽(NUGU celeb)’ 출시</td>\n      <td>http://underkg.co.kr/files/thumbnails/023/779/...</td>\n    </tr>\n    <tr>\n      <th>13</th>\n      <td>삼성 갤럭시 버즈 프로 추가 유출</td>\n      <td>http://underkg.co.kr/files/thumbnails/017/779/...</td>\n    </tr>\n    <tr>\n      <th>14</th>\n      <td>Oppo Reno 5 Plus 유출</td>\n      <td>http://underkg.co.kr/files/thumbnails/015/779/...</td>\n    </tr>\n    <tr>\n      <th>0</th>\n      <td>샤오미, 홍미 9 파워 티저 공개</td>\n      <td>http://underkg.co.kr/files/thumbnails/012/779/...</td>\n    </tr>\n    <tr>\n      <th>1</th>\n      <td>대원씨티에스, 외장 SSD ‘마이크론 크루셜 X6’ 출시</td>\n      <td>http://underkg.co.kr/files/thumbnails/006/779/...</td>\n    </tr>\n    <tr>\n      <th>2</th>\n      <td>Seagate, 차세대 게임 성능 유지하면서 용량 확장이 가능한 Xbox Serie...</td>\n      <td>http://underkg.co.kr/files/thumbnails/004/779/...</td>\n    </tr>\n    <tr>\n      <th>3</th>\n      <td>ASUS, 게임 인플루언서 24인과 함께하는 ‘블리자드 철인 3종 경기’ 후원</td>\n      <td>http://underkg.co.kr/files/thumbnails/002/779/...</td>\n    </tr>\n    <tr>\n      <th>4</th>\n      <td>레노버, 르멍 K12 및 K12 프로 발표</td>\n      <td>http://underkg.co.kr/files/thumbnails/554/778/...</td>\n    </tr>\n    <tr>\n      <th>5</th>\n      <td>샤오미, 미 워치 라이트 발표</td>\n      <td>http://underkg.co.kr/files/thumbnails/549/778/...</td>\n    </tr>\n    <tr>\n      <th>6</th>\n      <td>KT-현대차그룹, 커넥티드 카 기반 지니뮤직 서비스 출시</td>\n      <td>http://underkg.co.kr/files/thumbnails/409/778/...</td>\n    </tr>\n    <tr>\n      <th>7</th>\n      <td>LG전자, 가전·휴대폰 서비스 콜센터 품질 우수기업 선정</td>\n      <td>http://underkg.co.kr/files/thumbnails/407/778/...</td>\n    </tr>\n    <tr>\n      <th>8</th>\n      <td>삼성전자서비스, ‘2020 KS-CQI’ 우수 기업 선정</td>\n      <td>http://underkg.co.kr/files/thumbnails/402/778/...</td>\n    </tr>\n    <tr>\n      <th>9</th>\n      <td>구글, Pixel 3 리퍼비시 판매 개시</td>\n      <td>http://underkg.co.kr/files/thumbnails/400/778/...</td>\n    </tr>\n    <tr>\n      <th>10</th>\n      <td>[루머] 삼성 갤럭시 S21, 더 크고 빠른 지문인식 센서 탑재</td>\n      <td>http://underkg.co.kr/files/thumbnails/394/778/...</td>\n    </tr>\n    <tr>\n      <th>11</th>\n      <td>애플, 요가 매트 판매 개시</td>\n      <td>http://underkg.co.kr/files/thumbnails/392/778/...</td>\n    </tr>\n    <tr>\n      <th>12</th>\n      <td>삼성전자, 마이크로 LED TV 전격 공개</td>\n      <td>http://underkg.co.kr/files/thumbnails/385/778/...</td>\n    </tr>\n    <tr>\n      <th>13</th>\n      <td>구글 검색어로 되돌아보는 2020년 한국과 세계</td>\n      <td>http://underkg.co.kr/files/thumbnails/379/778/...</td>\n    </tr>\n    <tr>\n      <th>14</th>\n      <td>인텔 공인대리점 3사, 인텔 통합 A/S 센터 확장이전 기념 이벤트 진행</td>\n      <td>http://underkg.co.kr/files/thumbnails/377/778/...</td>\n    </tr>\n    <tr>\n      <th>0</th>\n      <td>삼성 스마트싱스, 구글 네스트 제품 지원 추가</td>\n      <td>http://underkg.co.kr/files/thumbnails/188/778/...</td>\n    </tr>\n    <tr>\n      <th>1</th>\n      <td>삼성 갤럭시 A52 렌더 등장</td>\n      <td>http://underkg.co.kr/files/thumbnails/927/777/...</td>\n    </tr>\n    <tr>\n      <th>2</th>\n      <td>Gionee, 보급형 스마트폰 K30 Pro 발표</td>\n      <td>http://underkg.co.kr/files/thumbnails/923/777/...</td>\n    </tr>\n    <tr>\n      <th>3</th>\n      <td>퀄컴, LG U+, 및 LG전자, 금오공대에 국내 최초 mmWave 상용화</td>\n      <td>http://underkg.co.kr/files/thumbnails/901/777/...</td>\n    </tr>\n    <tr>\n      <th>4</th>\n      <td>Seagate, 데이터 이동성과 신뢰성 강화 위해 RISC-V 코어 설계</td>\n      <td>http://underkg.co.kr/files/thumbnails/899/777/...</td>\n    </tr>\n    <tr>\n      <th>5</th>\n      <td>삼성전자X경북창조경제혁신센터, G-Star Dreamers 16기 모집</td>\n      <td>http://underkg.co.kr/files/thumbnails/897/777/...</td>\n    </tr>\n    <tr>\n      <th>6</th>\n      <td>새 글꼴 채용 Gboard 베타 출시</td>\n      <td>http://underkg.co.kr/files/thumbnails/893/777/...</td>\n    </tr>\n    <tr>\n      <th>7</th>\n      <td>모토로라 Moto G Stylus (2021) 유출</td>\n      <td>http://underkg.co.kr/files/thumbnails/881/777/...</td>\n    </tr>\n    <tr>\n      <th>8</th>\n      <td>노키아, 노트북 발표회 티저 공개</td>\n      <td>http://underkg.co.kr/files/thumbnails/876/777/...</td>\n    </tr>\n    <tr>\n      <th>9</th>\n      <td>케이스티파이, 이소룡 탄생 80주년 기념 컬래버레이션 컬렉션 출시</td>\n      <td>http://underkg.co.kr/files/thumbnails/871/777/...</td>\n    </tr>\n    <tr>\n      <th>10</th>\n      <td>LG전자, 투명 올레드 사이니지로 자동문 만든다</td>\n      <td>http://underkg.co.kr/files/thumbnails/867/777/...</td>\n    </tr>\n    <tr>\n      <th>11</th>\n      <td>“따뜻한 연말 보내세요” 제로페이 QR 코드로 자선냄비 기부 가능</td>\n      <td>http://underkg.co.kr/files/thumbnails/864/777/...</td>\n    </tr>\n    <tr>\n      <th>12</th>\n      <td>애플, 노이즈 캔슬링 헤드폰 에어팟 맥스 발표</td>\n      <td>http://underkg.co.kr/files/thumbnails/095/777/...</td>\n    </tr>\n    <tr>\n      <th>13</th>\n      <td>모토로라, 대용량 배터리 탑재 Moto G9 Power 인도 발표</td>\n      <td>http://underkg.co.kr/files/thumbnails/000/777/...</td>\n    </tr>\n    <tr>\n      <th>14</th>\n      <td>갤럭시 S21 시리즈, 충전기 및 이어폰 미포함</td>\n      <td>http://underkg.co.kr/files/thumbnails/862/776/...</td>\n    </tr>\n    <tr>\n      <th>0</th>\n      <td>삼성 갤럭시 버즈 프로 추가 유출</td>\n      <td>http://underkg.co.kr/files/thumbnails/796/776/...</td>\n    </tr>\n    <tr>\n      <th>1</th>\n      <td>노키아 Power Earbuds Lite, 중국 출시</td>\n      <td>http://underkg.co.kr/files/thumbnails/792/776/...</td>\n    </tr>\n    <tr>\n      <th>2</th>\n      <td>구글 어시스턴트, 애플 뮤직 지원 개시</td>\n      <td>http://underkg.co.kr/files/thumbnails/790/776/...</td>\n    </tr>\n    <tr>\n      <th>3</th>\n      <td>‘LG 클로이 살균봇’, 언제 어디서나 공간에 맞춰 방역</td>\n      <td>http://underkg.co.kr/files/thumbnails/787/776/...</td>\n    </tr>\n    <tr>\n      <th>4</th>\n      <td>CES 2021 등록 시작 “최초의 100% 디지털 CES, 지금 등록하세요”</td>\n      <td>http://underkg.co.kr/files/thumbnails/785/776/...</td>\n    </tr>\n    <tr>\n      <th>5</th>\n      <td>LG전자, ‘시그니처 키친 스위트’ 오븐 라인업 확대</td>\n      <td>http://underkg.co.kr/files/thumbnails/782/776/...</td>\n    </tr>\n    <tr>\n      <th>6</th>\n      <td>삼성 갤럭시 S21 울트라 및 S21 플러스 실기 유출</td>\n      <td>http://underkg.co.kr/files/thumbnails/575/776/...</td>\n    </tr>\n    <tr>\n      <th>7</th>\n      <td>LG전자, 프리미엄 ‘LG 휘센 실링팬’ 출시</td>\n      <td>http://underkg.co.kr/files/thumbnails/420/776/...</td>\n    </tr>\n    <tr>\n      <th>8</th>\n      <td>SKT, 연말연시 ‘V 컬러링’ 기부행사 펼친다</td>\n      <td>http://underkg.co.kr/files/thumbnails/418/776/...</td>\n    </tr>\n    <tr>\n      <th>9</th>\n      <td>LG전자, 보급형 스마트폰 W31 발표</td>\n      <td>http://underkg.co.kr/files/thumbnails/414/776/...</td>\n    </tr>\n    <tr>\n      <th>10</th>\n      <td>삼성전자, 6억 화소 센서 개발 중</td>\n      <td>http://underkg.co.kr/files/thumbnails/412/776/...</td>\n    </tr>\n    <tr>\n      <th>11</th>\n      <td>노키아 5.4 유출</td>\n      <td>http://underkg.co.kr/files/thumbnails/409/776/...</td>\n    </tr>\n    <tr>\n      <th>12</th>\n      <td>LG 올레드 갤러리 TV, 전시 공간도 예술 작품</td>\n      <td>http://underkg.co.kr/files/thumbnails/403/776/...</td>\n    </tr>\n    <tr>\n      <th>13</th>\n      <td>SKT, ‘누구 인포콜(NUGU infocall)’ 출시</td>\n      <td>http://underkg.co.kr/files/thumbnails/401/776/...</td>\n    </tr>\n    <tr>\n      <th>14</th>\n      <td>레노버 공식 유통사 반석전자, 레노버 ‘아이디어패드 플렉스 5i 14ITL’ 출시</td>\n      <td>http://underkg.co.kr/files/thumbnails/397/776/...</td>\n    </tr>\n  </tbody>\n</table>\n</div>"
     },
     "metadata": {},
     "execution_count": 4
    }
   ],
   "source": [
    "News = pd.DataFrame(Reshape(News, 2)).rename(columns={0:'제목', 1:'img url'})\n",
    "News.to_csv('./News.csv', index=False)\n",
    "News"
   ]
  },
  {
   "cell_type": "code",
   "execution_count": 5,
   "metadata": {},
   "outputs": [
    {
     "output_type": "execute_result",
     "data": {
      "text/plain": [
       "                           제목      글쓴이  조회수   글 번호\n",
       "0        근데 엑시노스2100의 전성비는...      나랏미  270  39550\n",
       "1            삼성, 내년 폴더블 4종 출시        ∅  788  39549\n",
       "2         갤럭시 S21,삼성 NEON 탑재?        ∅  708  39548\n",
       "3   점수는 논쟁이 없는데 마무리가 덜 되는 걸까요   범고래영고래  550  39547\n",
       "4                     사회생활 꿀팁     갤럭시투  604  39546\n",
       "..                        ...      ...  ...    ...\n",
       "15                  에어팟맥스 케이스     ited  487  39535\n",
       "16                탭 s6lite 중고  Cheesll  304  39534\n",
       "17      S21은 어찌됐던 S20보단 훨 낫네요        ∅  843  39533\n",
       "18             AirPods Max 발표        ∅  544  39532\n",
       "19      애플은 이정도면 욕받이가 아닌가 싶네요   qualia  674  39531\n",
       "\n",
       "[80 rows x 4 columns]"
      ],
      "text/html": "<div>\n<style scoped>\n    .dataframe tbody tr th:only-of-type {\n        vertical-align: middle;\n    }\n\n    .dataframe tbody tr th {\n        vertical-align: top;\n    }\n\n    .dataframe thead th {\n        text-align: right;\n    }\n</style>\n<table border=\"1\" class=\"dataframe\">\n  <thead>\n    <tr style=\"text-align: right;\">\n      <th></th>\n      <th>제목</th>\n      <th>글쓴이</th>\n      <th>조회수</th>\n      <th>글 번호</th>\n    </tr>\n  </thead>\n  <tbody>\n    <tr>\n      <th>0</th>\n      <td>근데 엑시노스2100의 전성비는...</td>\n      <td>나랏미</td>\n      <td>270</td>\n      <td>39550</td>\n    </tr>\n    <tr>\n      <th>1</th>\n      <td>삼성, 내년 폴더블 4종 출시</td>\n      <td>∅</td>\n      <td>788</td>\n      <td>39549</td>\n    </tr>\n    <tr>\n      <th>2</th>\n      <td>갤럭시 S21,삼성 NEON 탑재?</td>\n      <td>∅</td>\n      <td>708</td>\n      <td>39548</td>\n    </tr>\n    <tr>\n      <th>3</th>\n      <td>점수는 논쟁이 없는데 마무리가 덜 되는 걸까요</td>\n      <td>범고래영고래</td>\n      <td>550</td>\n      <td>39547</td>\n    </tr>\n    <tr>\n      <th>4</th>\n      <td>사회생활 꿀팁</td>\n      <td>갤럭시투</td>\n      <td>604</td>\n      <td>39546</td>\n    </tr>\n    <tr>\n      <th>...</th>\n      <td>...</td>\n      <td>...</td>\n      <td>...</td>\n      <td>...</td>\n    </tr>\n    <tr>\n      <th>15</th>\n      <td>에어팟맥스 케이스</td>\n      <td>ited</td>\n      <td>487</td>\n      <td>39535</td>\n    </tr>\n    <tr>\n      <th>16</th>\n      <td>탭 s6lite 중고</td>\n      <td>Cheesll</td>\n      <td>304</td>\n      <td>39534</td>\n    </tr>\n    <tr>\n      <th>17</th>\n      <td>S21은 어찌됐던 S20보단 훨 낫네요</td>\n      <td>∅</td>\n      <td>843</td>\n      <td>39533</td>\n    </tr>\n    <tr>\n      <th>18</th>\n      <td>AirPods Max 발표</td>\n      <td>∅</td>\n      <td>544</td>\n      <td>39532</td>\n    </tr>\n    <tr>\n      <th>19</th>\n      <td>애플은 이정도면 욕받이가 아닌가 싶네요</td>\n      <td>qualia</td>\n      <td>674</td>\n      <td>39531</td>\n    </tr>\n  </tbody>\n</table>\n<p>80 rows × 4 columns</p>\n</div>"
     },
     "metadata": {},
     "execution_count": 5
    }
   ],
   "source": [
    "Freeboard = pd.DataFrame(del_tmp(Reshape(Freeboard, 4), 3)).rename(columns={0:'제목', 1:'글쓴이', 2:'조회수', 3:'글 번호'})\n",
    "Freeboard.to_csv('./Freeboard.csv', index=False)\n",
    "Freeboard"
   ]
  },
  {
   "cell_type": "code",
   "execution_count": 6,
   "metadata": {},
   "outputs": [
    {
     "output_type": "execute_result",
     "data": {
      "text/plain": [
       "                               제목             글쓴이   글 번호\n",
       "0                       엑시노스 9820  Schneewittchen  17175\n",
       "1              아이폰11pro vs 아이폰 12          yyyyyy  17174\n",
       "2   안드로이드 시스템 파일이 ios보다 배로 큰가요..?        녹색우주괴생명체  17173\n",
       "3                       이거 왜이런가요?   SM-G965N(2.1)  17172\n",
       "4                      아이폰12 질문!!              검검  17171\n",
       "..                            ...             ...    ...\n",
       "15                     부모님 휴대폰 추천             구린말  17160\n",
       "16                         사파리 설정             스스슥  17159\n",
       "17                  원유아이 화면켜짐시간측정         4K60Fps  17158\n",
       "18       아이패드 케이스 호환 여부 관련 질문입니다.            Cory  17157\n",
       "19                         맥북 신제품           하이바라기  17156\n",
       "\n",
       "[80 rows x 3 columns]"
      ],
      "text/html": "<div>\n<style scoped>\n    .dataframe tbody tr th:only-of-type {\n        vertical-align: middle;\n    }\n\n    .dataframe tbody tr th {\n        vertical-align: top;\n    }\n\n    .dataframe thead th {\n        text-align: right;\n    }\n</style>\n<table border=\"1\" class=\"dataframe\">\n  <thead>\n    <tr style=\"text-align: right;\">\n      <th></th>\n      <th>제목</th>\n      <th>글쓴이</th>\n      <th>글 번호</th>\n    </tr>\n  </thead>\n  <tbody>\n    <tr>\n      <th>0</th>\n      <td>엑시노스 9820</td>\n      <td>Schneewittchen</td>\n      <td>17175</td>\n    </tr>\n    <tr>\n      <th>1</th>\n      <td>아이폰11pro vs 아이폰 12</td>\n      <td>yyyyyy</td>\n      <td>17174</td>\n    </tr>\n    <tr>\n      <th>2</th>\n      <td>안드로이드 시스템 파일이 ios보다 배로 큰가요..?</td>\n      <td>녹색우주괴생명체</td>\n      <td>17173</td>\n    </tr>\n    <tr>\n      <th>3</th>\n      <td>이거 왜이런가요?</td>\n      <td>SM-G965N(2.1)</td>\n      <td>17172</td>\n    </tr>\n    <tr>\n      <th>4</th>\n      <td>아이폰12 질문!!</td>\n      <td>검검</td>\n      <td>17171</td>\n    </tr>\n    <tr>\n      <th>...</th>\n      <td>...</td>\n      <td>...</td>\n      <td>...</td>\n    </tr>\n    <tr>\n      <th>15</th>\n      <td>부모님 휴대폰 추천</td>\n      <td>구린말</td>\n      <td>17160</td>\n    </tr>\n    <tr>\n      <th>16</th>\n      <td>사파리 설정</td>\n      <td>스스슥</td>\n      <td>17159</td>\n    </tr>\n    <tr>\n      <th>17</th>\n      <td>원유아이 화면켜짐시간측정</td>\n      <td>4K60Fps</td>\n      <td>17158</td>\n    </tr>\n    <tr>\n      <th>18</th>\n      <td>아이패드 케이스 호환 여부 관련 질문입니다.</td>\n      <td>Cory</td>\n      <td>17157</td>\n    </tr>\n    <tr>\n      <th>19</th>\n      <td>맥북 신제품</td>\n      <td>하이바라기</td>\n      <td>17156</td>\n    </tr>\n  </tbody>\n</table>\n<p>80 rows × 3 columns</p>\n</div>"
     },
     "metadata": {},
     "execution_count": 6
    }
   ],
   "source": [
    "QnA = pd.DataFrame(del_tmp(Reshape(QnA, 3), 2)).rename(columns={0:'제목', 1:'글쓴이', 2:'글 번호'})\n",
    "QnA.to_csv('./QnA.csv', index=False)\n",
    "QnA"
   ]
  },
  {
   "cell_type": "code",
   "execution_count": null,
   "metadata": {},
   "outputs": [],
   "source": []
  }
 ]
}